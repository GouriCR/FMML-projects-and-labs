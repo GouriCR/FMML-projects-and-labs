{
  "nbformat": 4,
  "nbformat_minor": 0,
  "metadata": {
    "colab": {
      "provenance": [],
      "authorship_tag": "ABX9TyMUk1iInMPc1V637HcByGp2",
      "include_colab_link": true
    },
    "kernelspec": {
      "name": "python3",
      "display_name": "Python 3"
    },
    "language_info": {
      "name": "python"
    }
  },
  "cells": [
    {
      "cell_type": "markdown",
      "metadata": {
        "id": "view-in-github",
        "colab_type": "text"
      },
      "source": [
        "<a href=\"https://colab.research.google.com/github/GouriCR/FMML-projects-and-labs/blob/main/my_first_collab_notebook.ipynb\" target=\"_parent\"><img src=\"https://colab.research.google.com/assets/colab-badge.svg\" alt=\"Open In Colab\"/></a>"
      ]
    },
    {
      "cell_type": "markdown",
      "source": [
        "Question 0 - ANSWER. Methods applicable to each data type."
      ],
      "metadata": {
        "id": "dSSguP4lYA9a"
      }
    },
    {
      "cell_type": "code",
      "execution_count": null,
      "metadata": {
        "id": "hjlLK7oIhu8T",
        "colab": {
          "base_uri": "https://localhost:8080/"
        },
        "outputId": "03bf26f5-21e8-4d69-8859-f45c67fa9317"
      },
      "outputs": [
        {
          "output_type": "stream",
          "name": "stdout",
          "text": [
            "Bananas are Basic \n",
            " BANANAS ARE BASIC \n",
            " bananas are basic \n",
            " Apples are Basic\n"
          ]
        }
      ],
      "source": [
        "##Strings\n",
        "name = 'Bananas are Basic'\n",
        "name_u = name.upper()\n",
        "name_l = name.lower()\n",
        "name_mod = name.replace('Bananas','Apples')\n",
        "print(name,\"\\n\",name_u,\"\\n\",name_l,\"\\n\",name_mod)"
      ]
    },
    {
      "cell_type": "code",
      "source": [
        "##List\n",
        "n_list = [4,1,'Oranges','1.1','Colours on fruits']\n",
        "n_list.extend([6])\n",
        "m = n_list.copy()\n",
        "print(m)\n",
        "print(n_list.pop(2))"
      ],
      "metadata": {
        "colab": {
          "base_uri": "https://localhost:8080/"
        },
        "id": "p6Lfv0jRNAlv",
        "outputId": "188b9df8-615f-4372-8655-fe33e170a312"
      },
      "execution_count": null,
      "outputs": [
        {
          "output_type": "stream",
          "name": "stdout",
          "text": [
            "[4, 1, 'Oranges', '1.1', 'Colours on fruits', 6]\n",
            "Oranges\n"
          ]
        }
      ]
    },
    {
      "cell_type": "code",
      "source": [
        "##Dictionary\n",
        "d = {\"category\" : \"casual\", \"material\" : \"cotton\", \"colour\" : \"blue\"}\n",
        "x = d.copy()\n",
        "y = d.get('colour')\n",
        "d.pop('material')\n",
        "print(x)\n",
        "print(y)\n",
        "print(d)"
      ],
      "metadata": {
        "colab": {
          "base_uri": "https://localhost:8080/"
        },
        "id": "zYW53uenX9Zm",
        "outputId": "f5983be8-8084-4e68-b847-023f3a4edc33"
      },
      "execution_count": null,
      "outputs": [
        {
          "output_type": "stream",
          "name": "stdout",
          "text": [
            "{'category': 'casual', 'material': 'cotton', 'colour': 'blue'}\n",
            "blue\n",
            "{'category': 'casual', 'colour': 'blue'}\n"
          ]
        }
      ]
    },
    {
      "cell_type": "code",
      "source": [
        "##Tuples\n",
        "t = (1,2,4,6,8,3,4,0,2)\n",
        "print(t.count(4))\n",
        "print(t.index(6))"
      ],
      "metadata": {
        "colab": {
          "base_uri": "https://localhost:8080/"
        },
        "id": "tNpuFWhRb7N_",
        "outputId": "0e265472-4e97-4ffd-90e6-8015ccaafcf8"
      },
      "execution_count": null,
      "outputs": [
        {
          "output_type": "stream",
          "name": "stdout",
          "text": [
            "2\n",
            "3\n"
          ]
        }
      ]
    },
    {
      "cell_type": "code",
      "source": [
        "##Sets\n",
        "s = {1,3,5,2,6,4,7,9,7}\n",
        "print(s)\n",
        "s.add(8)\n",
        "s.discard(7)\n",
        "print(s.pop())\n",
        "print(s)"
      ],
      "metadata": {
        "colab": {
          "base_uri": "https://localhost:8080/"
        },
        "id": "GBej5zfhmdAO",
        "outputId": "73b52bb3-9291-48b3-a398-8d7ab2d05a7e"
      },
      "execution_count": null,
      "outputs": [
        {
          "output_type": "stream",
          "name": "stdout",
          "text": [
            "{1, 2, 3, 4, 5, 6, 7, 9}\n",
            "1\n",
            "{2, 3, 4, 5, 6, 8, 9}\n"
          ]
        }
      ]
    },
    {
      "cell_type": "markdown",
      "source": [
        "  Question 1"
      ],
      "metadata": {
        "id": "-mDaBAV-sWhI"
      }
    },
    {
      "cell_type": "code",
      "source": [
        "def fn(a,b):\n",
        "\n",
        "    c = a[::-1]\n",
        "    d = c+b\n",
        "    return d\n",
        "\n",
        "ans = fn(\"good\",\"morning\")\n",
        "print(ans)"
      ],
      "metadata": {
        "colab": {
          "base_uri": "https://localhost:8080/"
        },
        "id": "DQ8fh5T8qB6z",
        "outputId": "7bb6e38a-55b3-4063-c4eb-971c79c3d284"
      },
      "execution_count": null,
      "outputs": [
        {
          "output_type": "stream",
          "name": "stdout",
          "text": [
            "doogmorning\n"
          ]
        }
      ]
    },
    {
      "cell_type": "markdown",
      "source": [
        "Question 2"
      ],
      "metadata": {
        "id": "SbRsRV2RscQc"
      }
    },
    {
      "cell_type": "code",
      "source": [
        "def fn(work_hours):\n",
        "\n",
        "  max = 0\n",
        "  worker = None\n",
        "  for name,hours,gender in work_hours:\n",
        "    if gender == 'F' and hours > max:\n",
        "       max = hours\n",
        "       worker = name\n",
        "\n",
        "  return worker\n",
        "\n",
        "work_hours = [('Abby',100 , 'F'),('Billy',400, 'M'),('Cassie',800,'F'), ('Maggi',600,'F'),('Alex',500,'M'),('Raj',225,'M'),('Penny',920,'F'),('Ben',300,'M')]\n",
        "n = fn(work_hours)\n",
        "print(n)\n",
        "for name, hours, gender in work_hours:\n",
        "    if n == name:\n",
        "      print(\"pay = \",hours*20,\"$\")"
      ],
      "metadata": {
        "colab": {
          "base_uri": "https://localhost:8080/"
        },
        "id": "Ql5hVtAvsgrT",
        "outputId": "a746f262-4669-4794-a48b-dbc219c96498"
      },
      "execution_count": null,
      "outputs": [
        {
          "output_type": "stream",
          "name": "stdout",
          "text": [
            "Penny\n",
            "pay =  18400 $\n"
          ]
        }
      ]
    }
  ]
}